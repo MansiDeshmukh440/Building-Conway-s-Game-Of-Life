{
 "cells": [
  {
   "cell_type": "code",
   "execution_count": 1,
   "id": "211facdf",
   "metadata": {},
   "outputs": [],
   "source": []
  },
  {
   "cell_type": "code",
   "execution_count": 19,
   "id": "a467f7a2",
   "metadata": {},
   "outputs": [],
   "source": [
    "class GameOfLife(object):  \n",
    "    '''\n",
    "    The GameOfLife class implements the famous \"Conway's Game of Life\".\n",
    "    \n",
    "    The game is a zero-player game, meaning that its evolution is determined by its initial state,\n",
    "    requiring no further input. One interacts with the Game of Life by creating an initial \n",
    "    configuration and observing how it evolves.\n",
    "    '''\n",
    "    \n",
    "    def __init__(self, x_dim, y_dim):\n",
    "        '''\n",
    "        Initializes a new instance of the GameOfLife class with a grid of giGaven dimensions.\n",
    "        \n",
    "        Parameters:\n",
    "        x_dim: The number of rows in the grid.\n",
    "        y_dim: The number of columns in the grid.\n",
    "        '''\n",
    "        \n",
    "        # Initialize life_grid as a 2D list filled with zeros. \n",
    "        # The dimensions of the grid are x_dim rows by y_dim columns.\n",
    "        self.life_grid = [[0 for _ in range(y_dim)] for _ in range(x_dim)]\n",
    "    \n",
    "    def get_grid(self):\n",
    "        '''\n",
    "        Gets the current state of the life grid.\n",
    "\n",
    "        Returns:\n",
    "        The current state of the life grid.\n",
    "        '''\n",
    "        \n",
    "        # Return the grid.\n",
    "        return self.life_grid\n",
    "    \n",
    "    def print_grid(self):\n",
    "        '''\n",
    "        Prints the current state of the life grid in a readable format.\n",
    "        '''\n",
    "        \n",
    "        # Iterate through each row in the grid\n",
    "        for i in range(len(self.life_grid)):\n",
    "            # For each cell in the current row, print its value followed by a pipe character\n",
    "            # 'end = ' ' ensures that each cell value in a row is printed on the same line\n",
    "            for j in range(len(self.life_grid[i])):\n",
    "                print(self.life_grid[i][j], '|', end = ' ')\n",
    "            # After printing all cell values in a row, print a newline character\n",
    "            print()\n",
    "            # Print a dashed line to visually separate the rows\n",
    "            print('- '*6)\n",
    "\n",
    "    def populate_grid(self, coord):\n",
    "        '''\n",
    "        Populates the game grid with live cells at the specified coordinates.\n",
    "        \n",
    "        Parameters:\n",
    "        coord: A list of tuples. Each tuple represents the (x, y) coordinates of a live cell.\n",
    "        \n",
    "        Returns:\n",
    "        The updated life_grid with the new live cells.\n",
    "        '''\n",
    "        \n",
    "        # Loop through each set of coordinates\n",
    "        for i in coord: \n",
    "            # Set the value at the specific coordinates (i[0], i[1]) in the life_grid to 1. \n",
    "            # This represents that the cell at these coordinates is alive.\n",
    "            self.life_grid[i[0]][i[1]] = 1\n",
    "        \n",
    "        # Return the updated life_grid with the designated cells set to 1, representing live cells.\n",
    "        return self.life_grid\n",
    "            \n",
    "    def make_step(self):\n",
    "        '''\n",
    "        Advances the game by one step according to the rules of the Game of Life.\n",
    "        \n",
    "        Returns:\n",
    "        The updated life_grid after one step.\n",
    "        '''\n",
    "        \n",
    "        # Get the number of rows in the life_grid list\n",
    "        rows = len(self.life_grid)\n",
    "        \n",
    "        # Get the number of columns in the life_grid list\n",
    "        columns = len(self.life_grid[0])\n",
    "        \n",
    "        # Initialize a variable to temporarily store the sum of a cell's neighboring cells\n",
    "        temp_sum = 0.0\n",
    "        \n",
    "        # Create a new grid with the same dimensions as life_grid to store the sum of neighbors for each cell\n",
    "        sum_grid = [[0 for i in range(columns)] for _ in range(rows)]\n",
    "        \n",
    "        # Iterate over each cell in the grid\n",
    "        for i in range(rows):\n",
    "            for j in range(columns):\n",
    "                \n",
    "                # Iterate over each of the cell's neighbors (including diagonally adjacent cells)\n",
    "                for a in [i-1, i, i+1]:\n",
    "                    for b in [j-1, j, j+1]:\n",
    "                        # Do not include the cell itself in the sum of its neighbors\n",
    "                        if a == i and b == j:\n",
    "                            pass\n",
    "                        else:\n",
    "                            # If the neighbor is within the grid boundaries, add its value to the temporary sum\n",
    "                            if 0 <= a < rows and 0 <= b < columns:\n",
    "                                temp_sum += self.life_grid[a][b]\n",
    "                            else:\n",
    "                                pass\n",
    "                            \n",
    "                # Store the sum of a cell's neighbors in the corresponding position in sum_grid\n",
    "                sum_grid[i][j] = temp_sum\n",
    "                \n",
    "                # Reset the temporary sum to 0 for the next cell\n",
    "                temp_sum = 0.0\n",
    "        \n",
    "        # Iterate over each cell in the grid once more, this time to update the state of each cell\n",
    "        for i in range(rows):\n",
    "            for j in range(columns):\n",
    "                # If the current cell is alive and has less than 2 or more than 3 live neighbors\n",
    "                if self.life_grid[i][j] == 1:\n",
    "                    if sum_grid[i][j] <= 1 or sum_grid[i][j] >= 4:\n",
    "                        # The cell dies\n",
    "                        self.life_grid[i][j] = 0\n",
    "                    else:\n",
    "                        pass\n",
    "                 # If the current cell is dead and has exactly 3 live neighbors\n",
    "                else:\n",
    "                    if sum_grid[i][j] == 3:\n",
    "                        # The cell becomes alive\n",
    "                        self.life_grid[i][j] = 1\n",
    "                    else:\n",
    "                        pass\n",
    "        \n",
    "        # Return the updated grid\n",
    "        return self.life_grid\n",
    "    \n",
    "    def make_n_steps(self, n):\n",
    "        '''\n",
    "        Advances the game by a specified number of steps.\n",
    "\n",
    "        Parameters:\n",
    "        n: The number of steps to advance the game by.\n",
    "\n",
    "        Returns:\n",
    "        The updated life_grid after n steps.\n",
    "        '''\n",
    "        \n",
    "        # Iterate 'n' times, invoking the make_step function at each iteration to evolve the grid\n",
    "        for i in range(n):\n",
    "            self.make_step()\n",
    "            \n",
    "        # Return the updated grid after 'n' steps have been performed\n",
    "        return self.life_grid\n",
    "    \n",
    "   \n",
    "  \n",
    "     "
   ]
  },
  {
   "cell_type": "code",
   "execution_count": 20,
   "id": "d89cbdf5",
   "metadata": {},
   "outputs": [],
   "source": [
    "# Instantiate the GameOfLife class with a 5x5 grid\n",
    "game = GameOfLife(5, 5)"
   ]
  },
  {
   "cell_type": "code",
   "execution_count": 21,
   "id": "1acbb311",
   "metadata": {},
   "outputs": [
    {
     "data": {
      "text/plain": [
       "[[0, 0, 0, 0, 0],\n",
       " [0, 1, 1, 0, 0],\n",
       " [0, 1, 1, 1, 0],\n",
       " [0, 0, 0, 0, 0],\n",
       " [0, 0, 0, 0, 0]]"
      ]
     },
     "execution_count": 21,
     "metadata": {},
     "output_type": "execute_result"
    }
   ],
   "source": [
    "# Populate the grid with live cells at specific coordinates\n",
    "game.populate_grid([(1, 1), (1, 2), (2, 1), (2, 2), (2, 3)])"
   ]
  },
  {
   "cell_type": "code",
   "execution_count": 22,
   "id": "11db7aa2",
   "metadata": {},
   "outputs": [
    {
     "name": "stdout",
     "output_type": "stream",
     "text": [
      "Initial State:\n",
      "0 | 0 | 0 | 0 | 0 | \n",
      "- - - - - - \n",
      "0 | 1 | 1 | 0 | 0 | \n",
      "- - - - - - \n",
      "0 | 1 | 1 | 1 | 0 | \n",
      "- - - - - - \n",
      "0 | 0 | 0 | 0 | 0 | \n",
      "- - - - - - \n",
      "0 | 0 | 0 | 0 | 0 | \n",
      "- - - - - - \n"
     ]
    }
   ],
   "source": [
    "# Print the initial state of the grid\n",
    "print(\"Initial State:\")\n",
    "game.print_grid()"
   ]
  },
  {
   "cell_type": "code",
   "execution_count": 23,
   "id": "1f43e45c",
   "metadata": {},
   "outputs": [
    {
     "data": {
      "text/plain": [
       "[[0, 0, 0, 0, 0],\n",
       " [0, 1, 0, 1, 0],\n",
       " [0, 1, 0, 1, 0],\n",
       " [0, 0, 1, 0, 0],\n",
       " [0, 0, 0, 0, 0]]"
      ]
     },
     "execution_count": 23,
     "metadata": {},
     "output_type": "execute_result"
    }
   ],
   "source": [
    "# Make one step in the Game of Life\n",
    "game.make_step()"
   ]
  },
  {
   "cell_type": "code",
   "execution_count": 24,
   "id": "b0ec269b",
   "metadata": {},
   "outputs": [
    {
     "name": "stdout",
     "output_type": "stream",
     "text": [
      "\n",
      "State after one step:\n",
      "0 | 0 | 0 | 0 | 0 | \n",
      "- - - - - - \n",
      "0 | 1 | 0 | 1 | 0 | \n",
      "- - - - - - \n",
      "0 | 1 | 0 | 1 | 0 | \n",
      "- - - - - - \n",
      "0 | 0 | 1 | 0 | 0 | \n",
      "- - - - - - \n",
      "0 | 0 | 0 | 0 | 0 | \n",
      "- - - - - - \n"
     ]
    }
   ],
   "source": [
    "# Print the state of the grid after one step\n",
    "print(\"\\nState after one step:\")\n",
    "game.print_grid()"
   ]
  },
  {
   "cell_type": "code",
   "execution_count": 25,
   "id": "0f49f9a8",
   "metadata": {},
   "outputs": [
    {
     "data": {
      "text/plain": [
       "[[0, 0, 0, 0, 0],\n",
       " [0, 0, 0, 0, 0],\n",
       " [0, 0, 0, 0, 0],\n",
       " [0, 0, 0, 0, 0],\n",
       " [0, 0, 0, 0, 0]]"
      ]
     },
     "execution_count": 25,
     "metadata": {},
     "output_type": "execute_result"
    }
   ],
   "source": [
    "# Make three more steps in the Game of Life\n",
    "game.make_n_steps(3)"
   ]
  },
  {
   "cell_type": "code",
   "execution_count": 26,
   "id": "a000cd34",
   "metadata": {},
   "outputs": [
    {
     "name": "stdout",
     "output_type": "stream",
     "text": [
      "\n",
      "State after four steps:\n",
      "0 | 0 | 0 | 0 | 0 | \n",
      "- - - - - - \n",
      "0 | 0 | 0 | 0 | 0 | \n",
      "- - - - - - \n",
      "0 | 0 | 0 | 0 | 0 | \n",
      "- - - - - - \n",
      "0 | 0 | 0 | 0 | 0 | \n",
      "- - - - - - \n",
      "0 | 0 | 0 | 0 | 0 | \n",
      "- - - - - - \n"
     ]
    }
   ],
   "source": [
    "# Print the state of the grid after a total of four steps\n",
    "print(\"\\nState after four steps:\")\n",
    "game.print_grid()"
   ]
  },
  {
   "cell_type": "code",
   "execution_count": null,
   "id": "241f761a",
   "metadata": {},
   "outputs": [
    {
     "data": {
      "image/png": "[encoded data removed]",
      "text/plain": [
       "<Figure size 900x900 with 1 Axes>"
      ]
     },
     "metadata": {},
     "output_type": "display_data"
    }
   ],
   "source": [
    "\n"
   ]
  },
  {
   "cell_type": "code",
   "execution_count": null,
   "id": "73bea747",
   "metadata": {},
   "outputs": [],
   "source": []
  },
  {
   "cell_type": "code",
   "execution_count": null,
   "id": "67c3888c",
   "metadata": {},
   "outputs": [],
   "source": []
  }
 ],
 "metadata": {
  "kernelspec": {
   "display_name": "Python 3 (ipykernel)",
   "language": "python",
   "name": "python3"
  },
  "language_info": {
   "codemirror_mode": {
    "name": "ipython",
    "version": 3
   },
   "file_extension": ".py",
   "mimetype": "text/x-python",
   "name": "python",
   "nbconvert_exporter": "python",
   "pygments_lexer": "ipython3",
   "version": "3.10.8"
  }
 },
 "nbformat": 4,
 "nbformat_minor": 5
}
